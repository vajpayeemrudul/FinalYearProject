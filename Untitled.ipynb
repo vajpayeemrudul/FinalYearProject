{
 "cells": [
  {
   "cell_type": "code",
   "execution_count": 45,
   "id": "bdcaf8ef",
   "metadata": {
    "ExecuteTime": {
     "end_time": "2022-11-27T07:44:51.788742Z",
     "start_time": "2022-11-27T07:44:51.786233Z"
    }
   },
   "outputs": [],
   "source": [
    "import pickle\n",
    "\n",
    "\n",
    "with open('labels.pkl', 'rb') as f:\n",
    "    data = pickle.load(f)"
   ]
  },
  {
   "cell_type": "code",
   "execution_count": 46,
   "id": "59375b74",
   "metadata": {
    "ExecuteTime": {
     "end_time": "2022-11-27T07:44:52.033333Z",
     "start_time": "2022-11-27T07:44:52.022668Z"
    },
    "scrolled": true
   },
   "outputs": [
    {
     "data": {
      "text/plain": [
       "['Anxiety',\n",
       " 'Arthritis',\n",
       " 'Arthritis prevention',\n",
       " 'Asthma symptoms',\n",
       " 'Breast Cancer',\n",
       " 'Cancer',\n",
       " 'Cancer prevention',\n",
       " 'Cervical spondylosis',\n",
       " 'Cervical spondylosis prevention',\n",
       " 'Conjunctivitis',\n",
       " 'Conjunctivitis prevention',\n",
       " 'Consultation',\n",
       " 'Coronavirus',\n",
       " 'Coronavirus prevention',\n",
       " 'Depression symptoms',\n",
       " 'Diabetes symptoms',\n",
       " 'Diarrhea',\n",
       " 'Food poisoning',\n",
       " 'Tuberculosis prevention',\n",
       " 'age',\n",
       " 'anemia',\n",
       " 'anemia prevention',\n",
       " 'asthma prevention',\n",
       " 'chickenpox',\n",
       " 'chickenpox prevention',\n",
       " 'common cold prevention',\n",
       " 'common cold symptoms',\n",
       " 'dengue',\n",
       " 'dengue prevention',\n",
       " 'depression prevention',\n",
       " 'diabetes prevention',\n",
       " 'fever prevention',\n",
       " 'fever symptoms',\n",
       " 'goodbye',\n",
       " 'greeting',\n",
       " 'heart attack',\n",
       " 'kidney stones',\n",
       " 'kidney stones prevention',\n",
       " 'malaria',\n",
       " 'malaria prevention',\n",
       " 'name',\n",
       " 'thanks',\n",
       " 'thyroid',\n",
       " 'thyroid prevention',\n",
       " 'tuberculosis',\n",
       " 'typhoid',\n",
       " 'typhoid prevention']"
      ]
     },
     "execution_count": 46,
     "metadata": {},
     "output_type": "execute_result"
    }
   ],
   "source": [
    "data"
   ]
  },
  {
   "cell_type": "code",
   "execution_count": 47,
   "id": "f12cfa5e",
   "metadata": {
    "ExecuteTime": {
     "end_time": "2022-11-27T07:44:59.051374Z",
     "start_time": "2022-11-27T07:44:59.046002Z"
    }
   },
   "outputs": [
    {
     "data": {
      "text/plain": [
       "'Coronavirus'"
      ]
     },
     "execution_count": 47,
     "metadata": {},
     "output_type": "execute_result"
    }
   ],
   "source": [
    "data[12]"
   ]
  },
  {
   "cell_type": "code",
   "execution_count": 43,
   "id": "d7e2cff5",
   "metadata": {
    "ExecuteTime": {
     "end_time": "2022-11-27T07:44:44.476263Z",
     "start_time": "2022-11-27T07:44:44.474346Z"
    }
   },
   "outputs": [],
   "source": [
    "c = \"\"\"9.42528131e-04 1.45271386e-03 3.21856896e-05 6.39701448e-03\n",
    " 7.04420163e-05 1.92586109e-02 6.40639773e-05 1.30539224e-03\n",
    " 1.21750047e-04 1.06167165e-04 1.55425150e-04 2.72684028e-05\n",
    " 4.62929785e-01 2.19289232e-05 1.64923829e-03 7.81303085e-03\n",
    " 1.17125921e-03 2.42161360e-02 1.97739835e-04 6.26947513e-05\n",
    " 2.77628228e-02 6.67093263e-05 4.53442161e-04 1.02425367e-01\n",
    " 1.78675429e-04 4.20783999e-06 2.74963910e-04 5.70031404e-02\n",
    " 9.70257224e-06 3.70508751e-05 9.90354383e-05 8.90904688e-04\n",
    " 5.51444776e-02 6.59111392e-05 3.28221249e-05 4.40935185e-03\n",
    " 6.47998648e-04 9.87987514e-05 4.59540412e-02 9.64904320e-04\n",
    " 1.57574148e-04 1.49801758e-03 4.25180071e-04 3.54427757e-05\n",
    " 1.53079145e-02 1.58017486e-01 3.85980857e-05\"\"\"\n",
    "c = c.split(\" \")"
   ]
  },
  {
   "cell_type": "code",
   "execution_count": 50,
   "id": "80ab8ed0",
   "metadata": {
    "ExecuteTime": {
     "end_time": "2022-11-27T07:50:43.522884Z",
     "start_time": "2022-11-27T07:50:43.518517Z"
    }
   },
   "outputs": [
    {
     "data": {
      "text/plain": [
       "0.99999991615233"
      ]
     },
     "execution_count": 50,
     "metadata": {},
     "output_type": "execute_result"
    }
   ],
   "source": [
    "sum(c)"
   ]
  },
  {
   "cell_type": "code",
   "execution_count": 44,
   "id": "4ee49a1a",
   "metadata": {
    "ExecuteTime": {
     "end_time": "2022-11-27T07:44:44.747127Z",
     "start_time": "2022-11-27T07:44:44.734096Z"
    }
   },
   "outputs": [
    {
     "data": {
      "text/plain": [
       "12"
      ]
     },
     "execution_count": 44,
     "metadata": {},
     "output_type": "execute_result"
    }
   ],
   "source": [
    "from decimal import Decimal\n",
    "c = [float(Decimal(item.split(\"\\n\")[0])) for item in c]\n",
    "max_ = max(c)\n",
    "c.index(max_)"
   ]
  },
  {
   "cell_type": "code",
   "execution_count": 48,
   "id": "43ec18f9",
   "metadata": {
    "ExecuteTime": {
     "end_time": "2022-11-27T07:50:13.712591Z",
     "start_time": "2022-11-27T07:50:13.709842Z"
    }
   },
   "outputs": [
    {
     "data": {
      "text/plain": [
       "0.462929785"
      ]
     },
     "execution_count": 48,
     "metadata": {},
     "output_type": "execute_result"
    }
   ],
   "source": [
    "max_"
   ]
  },
  {
   "cell_type": "code",
   "execution_count": 31,
   "id": "e385c8a4",
   "metadata": {
    "ExecuteTime": {
     "end_time": "2022-11-27T07:42:01.742072Z",
     "start_time": "2022-11-27T07:42:01.738535Z"
    }
   },
   "outputs": [
    {
     "data": {
      "text/plain": [
       "['2.72684028e-05']"
      ]
     },
     "execution_count": 31,
     "metadata": {},
     "output_type": "execute_result"
    }
   ],
   "source": [
    "'2.72684028e-05'.split(\"\\n\")"
   ]
  },
  {
   "cell_type": "code",
   "execution_count": 28,
   "id": "f7e1d725",
   "metadata": {
    "ExecuteTime": {
     "end_time": "2022-11-27T07:41:13.472696Z",
     "start_time": "2022-11-27T07:41:13.461900Z"
    },
    "scrolled": true
   },
   "outputs": [
    {
     "data": {
      "text/plain": [
       "['9.42528131e-04',\n",
       " '1.45271386e-03',\n",
       " '3.21856896e-05',\n",
       " '6.39701448e-03\\n',\n",
       " '7.04420163e-05',\n",
       " '1.92586109e-02',\n",
       " '6.40639773e-05',\n",
       " '1.30539224e-03\\n',\n",
       " '1.21750047e-04',\n",
       " '1.06167165e-04',\n",
       " '1.55425150e-04',\n",
       " '2.72684028e-05\\n',\n",
       " '4.62929785e-01',\n",
       " '2.19289232e-05',\n",
       " '1.64923829e-03',\n",
       " '7.81303085e-03\\n',\n",
       " '1.17125921e-03',\n",
       " '2.42161360e-02',\n",
       " '1.97739835e-04',\n",
       " '6.26947513e-05\\n',\n",
       " '2.77628228e-02',\n",
       " '6.67093263e-05',\n",
       " '4.53442161e-04',\n",
       " '1.02425367e-01\\n',\n",
       " '1.78675429e-04',\n",
       " '4.20783999e-06',\n",
       " '2.74963910e-04',\n",
       " '5.70031404e-02\\n',\n",
       " '9.70257224e-06',\n",
       " '3.70508751e-05',\n",
       " '9.90354383e-05',\n",
       " '8.90904688e-04\\n',\n",
       " '5.51444776e-02',\n",
       " '6.59111392e-05',\n",
       " '3.28221249e-05',\n",
       " '4.40935185e-03\\n',\n",
       " '6.47998648e-04',\n",
       " '9.87987514e-05',\n",
       " '4.59540412e-02',\n",
       " '9.64904320e-04\\n',\n",
       " '1.57574148e-04',\n",
       " '1.49801758e-03',\n",
       " '4.25180071e-04',\n",
       " '3.54427757e-05\\n',\n",
       " '1.53079145e-02',\n",
       " '1.58017486e-01',\n",
       " '3.85980857e-05']"
      ]
     },
     "execution_count": 28,
     "metadata": {},
     "output_type": "execute_result"
    }
   ],
   "source": [
    "c"
   ]
  },
  {
   "cell_type": "code",
   "execution_count": null,
   "id": "398f6b80",
   "metadata": {},
   "outputs": [],
   "source": []
  },
  {
   "cell_type": "code",
   "execution_count": 12,
   "id": "e26face5",
   "metadata": {
    "ExecuteTime": {
     "end_time": "2022-11-27T07:29:42.899607Z",
     "start_time": "2022-11-27T07:29:42.889722Z"
    }
   },
   "outputs": [
    {
     "data": {
      "text/plain": [
       "47"
      ]
     },
     "execution_count": 12,
     "metadata": {},
     "output_type": "execute_result"
    }
   ],
   "source": [
    "len(data)"
   ]
  },
  {
   "cell_type": "code",
   "execution_count": 15,
   "id": "2e917c91",
   "metadata": {
    "ExecuteTime": {
     "end_time": "2022-11-27T07:33:40.224054Z",
     "start_time": "2022-11-27T07:33:40.217175Z"
    }
   },
   "outputs": [],
   "source": [
    "import pickle\n",
    "\n",
    "\n",
    "with open('texts.pkl', 'rb') as f:\n",
    "    data = pickle.load(f)"
   ]
  },
  {
   "cell_type": "code",
   "execution_count": 22,
   "id": "61f56b28",
   "metadata": {
    "ExecuteTime": {
     "end_time": "2022-11-27T07:39:13.306408Z",
     "start_time": "2022-11-27T07:39:13.298433Z"
    }
   },
   "outputs": [
    {
     "data": {
      "text/plain": [
       "[\"'s\",\n",
       " '(',\n",
       " ')',\n",
       " ',',\n",
       " 'a',\n",
       " 'abdomen',\n",
       " 'abdominal',\n",
       " 'abnormal',\n",
       " 'accompanied',\n",
       " 'ache',\n",
       " 'age',\n",
       " 'am',\n",
       " 'and',\n",
       " 'anemia',\n",
       " 'anxiety',\n",
       " 'any',\n",
       " 'anyone',\n",
       " 'appetite',\n",
       " 'are',\n",
       " 'area',\n",
       " 'arm',\n",
       " 'armpit',\n",
       " 'arthritis',\n",
       " 'asthma',\n",
       " 'at',\n",
       " 'available',\n",
       " 'away',\n",
       " 'back',\n",
       " 'backpain',\n",
       " 'behind',\n",
       " 'below',\n",
       " 'bleeding',\n",
       " 'blister',\n",
       " 'bloating',\n",
       " 'blood',\n",
       " 'blurry',\n",
       " 'body',\n",
       " 'bone',\n",
       " 'bowel',\n",
       " 'breast',\n",
       " 'breastbone',\n",
       " 'breath',\n",
       " 'breathing',\n",
       " 'buy',\n",
       " 'bye',\n",
       " 'call',\n",
       " 'can',\n",
       " 'cancer',\n",
       " 'cervical',\n",
       " 'change',\n",
       " 'chest',\n",
       " 'chickenpox',\n",
       " 'chill',\n",
       " 'choking',\n",
       " 'cold',\n",
       " 'come',\n",
       " 'common',\n",
       " 'congestion',\n",
       " 'conjunctivitis',\n",
       " 'consultation',\n",
       " 'contact',\n",
       " 'coronavirus',\n",
       " 'cough',\n",
       " 'coughing',\n",
       " 'cramp',\n",
       " 'daily',\n",
       " 'day',\n",
       " 'death',\n",
       " 'dengue',\n",
       " 'depression',\n",
       " 'diabetes',\n",
       " 'diarrhea',\n",
       " 'difficulty',\n",
       " 'dimpling',\n",
       " 'dizziness',\n",
       " 'doctor',\n",
       " 'doom',\n",
       " 'drink',\n",
       " 'drycough',\n",
       " 'eat',\n",
       " 'excessive',\n",
       " 'extreme',\n",
       " 'extremely',\n",
       " 'eye',\n",
       " 'eyelid',\n",
       " 'fatigue',\n",
       " 'fear',\n",
       " 'feeling',\n",
       " 'fever',\n",
       " 'flaky',\n",
       " 'flu',\n",
       " 'fluctuates',\n",
       " 'foot',\n",
       " 'for',\n",
       " 'frequent',\n",
       " 'from',\n",
       " 'fromcervical',\n",
       " 'fromchickenpox',\n",
       " 'gain',\n",
       " 'general',\n",
       " 'generally',\n",
       " 'getting',\n",
       " 'give',\n",
       " 'good',\n",
       " 'goodbye',\n",
       " 'groin',\n",
       " 'gum',\n",
       " 'hand',\n",
       " 'have',\n",
       " 'headache',\n",
       " 'heartbeat',\n",
       " 'heavy',\n",
       " 'hello',\n",
       " 'help',\n",
       " 'helpful',\n",
       " 'hey',\n",
       " 'hi',\n",
       " 'high',\n",
       " 'hopeless',\n",
       " 'how',\n",
       " 'hunger',\n",
       " 'i',\n",
       " 'if',\n",
       " 'impaired',\n",
       " 'impending',\n",
       " 'in',\n",
       " 'increase',\n",
       " 'increased',\n",
       " 'inner',\n",
       " 'insomnia',\n",
       " 'intensity',\n",
       " 'interest',\n",
       " 'irregular',\n",
       " 'irritability',\n",
       " 'irritation',\n",
       " 'is',\n",
       " 'itchy',\n",
       " 'joint',\n",
       " 'keep',\n",
       " 'kidney',\n",
       " 'last',\n",
       " 'later',\n",
       " 'light',\n",
       " 'lightheadedness',\n",
       " 'looking',\n",
       " 'loss',\n",
       " 'lost',\n",
       " 'lot',\n",
       " 'low',\n",
       " 'low-grade',\n",
       " 'lower',\n",
       " 'lump',\n",
       " 'lymph',\n",
       " 'malaise',\n",
       " 'malaria',\n",
       " 'me',\n",
       " 'medicine',\n",
       " 'meeting',\n",
       " 'memory',\n",
       " 'method',\n",
       " 'mild',\n",
       " 'more',\n",
       " 'movement',\n",
       " 'mucus',\n",
       " 'muscle',\n",
       " 'my',\n",
       " 'myself',\n",
       " 'name',\n",
       " 'nausea',\n",
       " 'neck',\n",
       " 'need',\n",
       " 'new',\n",
       " 'night',\n",
       " 'nipple',\n",
       " 'node',\n",
       " 'nose',\n",
       " 'numbness',\n",
       " 'of',\n",
       " 'old',\n",
       " 'or',\n",
       " 'outlook',\n",
       " 'pain',\n",
       " 'pale',\n",
       " 'panic',\n",
       " 'part',\n",
       " 'prevention',\n",
       " 'problem',\n",
       " 'pulling',\n",
       " 'radiates',\n",
       " 'rash',\n",
       " 'red',\n",
       " 'redness',\n",
       " 'rib',\n",
       " 'runny',\n",
       " 'see',\n",
       " 'sensitive',\n",
       " 'sensitivity',\n",
       " 'set',\n",
       " 'severe',\n",
       " 'severecough',\n",
       " 'shaking',\n",
       " 'sharp',\n",
       " 'shivering',\n",
       " 'shortness',\n",
       " 'should',\n",
       " 'side',\n",
       " 'skin',\n",
       " 'sleep',\n",
       " 'slight',\n",
       " 'smell',\n",
       " 'sneezing',\n",
       " 'some',\n",
       " 'sore',\n",
       " 'spondylosis',\n",
       " 'start',\n",
       " 'stiffness',\n",
       " 'stomach',\n",
       " 'stone',\n",
       " 'stool',\n",
       " 'stuffy',\n",
       " 'suffering',\n",
       " 'suggestion',\n",
       " 'sweat',\n",
       " 'sweating',\n",
       " 'swelling',\n",
       " 'swollen',\n",
       " 'talking',\n",
       " 'taste',\n",
       " 'tear',\n",
       " 'tell',\n",
       " 'than',\n",
       " 'thank',\n",
       " 'thanks',\n",
       " 'that',\n",
       " 'the',\n",
       " 'there',\n",
       " 'thickening',\n",
       " 'thirst',\n",
       " 'three',\n",
       " 'throat',\n",
       " 'thyroid',\n",
       " 'tightness',\n",
       " 'tiredness',\n",
       " 'to',\n",
       " 'trembling',\n",
       " 'tuberculosis',\n",
       " 'typhoid',\n",
       " 'underarm',\n",
       " 'unexplained',\n",
       " 'unintentional',\n",
       " 'unwell',\n",
       " 'up',\n",
       " 'urgent',\n",
       " 'urination',\n",
       " 'usual',\n",
       " 'usually',\n",
       " 'vision',\n",
       " 'vomiting',\n",
       " 'wave',\n",
       " 'weakness',\n",
       " 'week',\n",
       " 'weight',\n",
       " 'what',\n",
       " 'white',\n",
       " 'who',\n",
       " 'with',\n",
       " 'worry',\n",
       " 'yellowish',\n",
       " 'you',\n",
       " 'your']"
      ]
     },
     "execution_count": 22,
     "metadata": {},
     "output_type": "execute_result"
    }
   ],
   "source": [
    "data"
   ]
  },
  {
   "cell_type": "code",
   "execution_count": 21,
   "id": "fdf8493f",
   "metadata": {
    "ExecuteTime": {
     "end_time": "2022-11-27T07:38:57.941452Z",
     "start_time": "2022-11-27T07:38:57.938398Z"
    }
   },
   "outputs": [
    {
     "data": {
      "text/plain": [
       "270"
      ]
     },
     "execution_count": 21,
     "metadata": {},
     "output_type": "execute_result"
    }
   ],
   "source": [
    "b = \"\"\"0 0 0 1 0 0 0 0 0 0 0 0 1 0 0 0 0 0 0 0 0 0 0 0 0 0 0 0 0 0 0 0 0 0 0 0 0\n",
    " 0 0 0 0 0 0 0 0 0 0 0 0 0 0 0 0 0 0 0 0 0 0 0 0 0 0 0 0 0 0 0 0 0 0 0 0 0\n",
    " 0 0 0 0 0 0 0 0 0 0 0 0 0 0 0 0 0 0 0 0 0 0 0 0 0 0 0 0 0 0 0 0 0 0 0 0 0\n",
    " 0 0 0 0 0 0 0 0 0 0 0 0 0 0 0 0 0 0 0 0 0 0 0 0 0 0 0 0 0 0 0 0 0 0 1 0 0\n",
    " 0 0 0 0 0 0 0 0 0 0 0 0 0 0 0 0 0 0 0 0 0 0 0 0 0 0 0 0 0 1 0 0 0 0 0 0 0\n",
    " 0 0 0 0 0 0 0 0 0 0 0 0 0 0 0 0 0 0 0 0 0 0 0 0 1 0 0 0 0 0 0 0 0 0 0 0 0\n",
    " 0 0 0 0 0 1 0 0 0 0 0 0 0 0 0 0 0 0 0 0 0 0 0 0 0 0 0 0 0 0 0 0 0 0 0 0 0\n",
    " 0 0 0 0 0 0 0 0 0 0 0\"\"\"\n",
    "b = b.split(\" \")\n",
    "len(b)"
   ]
  },
  {
   "cell_type": "code",
   "execution_count": 24,
   "id": "bd2a65f2",
   "metadata": {
    "ExecuteTime": {
     "end_time": "2022-11-27T07:39:50.212674Z",
     "start_time": "2022-11-27T07:39:50.209678Z"
    }
   },
   "outputs": [
    {
     "name": "stdout",
     "output_type": "stream",
     "text": [
      ",\n",
      "and\n",
      "loss\n",
      "of\n",
      "smell\n",
      "taste\n"
     ]
    }
   ],
   "source": [
    "for word, index in zip(data, b):\n",
    "    if index == \"1\":\n",
    "        print(word)"
   ]
  },
  {
   "cell_type": "code",
   "execution_count": null,
   "id": "ab50244b",
   "metadata": {},
   "outputs": [],
   "source": []
  },
  {
   "cell_type": "code",
   "execution_count": 17,
   "id": "f0c2dc27",
   "metadata": {
    "ExecuteTime": {
     "end_time": "2022-11-27T07:33:50.199486Z",
     "start_time": "2022-11-27T07:33:50.186569Z"
    }
   },
   "outputs": [
    {
     "data": {
      "text/plain": [
       "True"
      ]
     },
     "execution_count": 17,
     "metadata": {},
     "output_type": "execute_result"
    }
   ],
   "source": [
    "\"taste\" in data"
   ]
  },
  {
   "cell_type": "code",
   "execution_count": 18,
   "id": "476b7d9d",
   "metadata": {
    "ExecuteTime": {
     "end_time": "2022-11-27T07:33:59.326249Z",
     "start_time": "2022-11-27T07:33:59.323393Z"
    }
   },
   "outputs": [
    {
     "data": {
      "text/plain": [
       "True"
      ]
     },
     "execution_count": 18,
     "metadata": {},
     "output_type": "execute_result"
    }
   ],
   "source": [
    "\"smell\" in data"
   ]
  },
  {
   "cell_type": "code",
   "execution_count": 7,
   "id": "b08ad292",
   "metadata": {
    "ExecuteTime": {
     "end_time": "2022-11-27T07:27:26.312748Z",
     "start_time": "2022-11-27T07:27:26.309915Z"
    }
   },
   "outputs": [
    {
     "data": {
      "text/plain": [
       "270"
      ]
     },
     "execution_count": 7,
     "metadata": {},
     "output_type": "execute_result"
    }
   ],
   "source": [
    "len(data)"
   ]
  },
  {
   "cell_type": "code",
   "execution_count": 8,
   "id": "481deb2c",
   "metadata": {
    "ExecuteTime": {
     "end_time": "2022-11-27T07:29:22.880365Z",
     "start_time": "2022-11-27T07:29:22.876585Z"
    }
   },
   "outputs": [
    {
     "data": {
      "text/plain": [
       "47"
      ]
     },
     "execution_count": 8,
     "metadata": {},
     "output_type": "execute_result"
    }
   ],
   "source": [
    "a = [0, 0, 0, 0, 0, 0, 0, 0, 0, 0, 0, 0, 0, 0, 0, 0, 0, 0, 0, 0, 0, 0, 0, 0, 0, 0, 0, 0, 0, 0, 0, 0, 0, 0, 0, 0, 0, 0, 0, 0, 0, 0, 0, 1, 0, 0, 0]\n",
    "len(a)"
   ]
  },
  {
   "cell_type": "code",
   "execution_count": 3,
   "id": "07bcf25b",
   "metadata": {
    "ExecuteTime": {
     "end_time": "2022-11-27T07:26:47.436109Z",
     "start_time": "2022-11-27T07:26:47.429648Z"
    },
    "scrolled": true
   },
   "outputs": [
    {
     "data": {
      "text/plain": [
       "['Anxiety',\n",
       " 'Arthritis',\n",
       " 'Arthritis prevention',\n",
       " 'Asthma symptoms',\n",
       " 'Breast Cancer',\n",
       " 'Cancer',\n",
       " 'Cancer prevention',\n",
       " 'Cervical spondylosis',\n",
       " 'Cervical spondylosis prevention',\n",
       " 'Conjunctivitis',\n",
       " 'Conjunctivitis prevention',\n",
       " 'Consultation',\n",
       " 'Coronavirus',\n",
       " 'Coronavirus prevention',\n",
       " 'Depression symptoms',\n",
       " 'Diabetes symptoms',\n",
       " 'Diarrhea',\n",
       " 'Food poisoning',\n",
       " 'Tuberculosis prevention',\n",
       " 'age',\n",
       " 'anemia',\n",
       " 'anemia prevention',\n",
       " 'asthma prevention',\n",
       " 'chickenpox',\n",
       " 'chickenpox prevention',\n",
       " 'common cold prevention',\n",
       " 'common cold symptoms',\n",
       " 'dengue',\n",
       " 'dengue prevention',\n",
       " 'depression prevention',\n",
       " 'diabetes prevention',\n",
       " 'fever prevention',\n",
       " 'fever symptoms',\n",
       " 'goodbye',\n",
       " 'greeting',\n",
       " 'heart attack',\n",
       " 'kidney stones',\n",
       " 'kidney stones prevention',\n",
       " 'malaria',\n",
       " 'malaria prevention',\n",
       " 'name',\n",
       " 'thanks',\n",
       " 'thyroid',\n",
       " 'thyroid prevention',\n",
       " 'tuberculosis',\n",
       " 'typhoid',\n",
       " 'typhoid prevention']"
      ]
     },
     "execution_count": 3,
     "metadata": {},
     "output_type": "execute_result"
    }
   ],
   "source": [
    "data"
   ]
  },
  {
   "cell_type": "code",
   "execution_count": null,
   "id": "b10ab7ec",
   "metadata": {},
   "outputs": [],
   "source": []
  }
 ],
 "metadata": {
  "kernelspec": {
   "display_name": "Python 3",
   "language": "python",
   "name": "python3"
  },
  "language_info": {
   "codemirror_mode": {
    "name": "ipython",
    "version": 3
   },
   "file_extension": ".py",
   "mimetype": "text/x-python",
   "name": "python",
   "nbconvert_exporter": "python",
   "pygments_lexer": "ipython3",
   "version": "3.8.13"
  },
  "varInspector": {
   "cols": {
    "lenName": 16,
    "lenType": 16,
    "lenVar": 40
   },
   "kernels_config": {
    "python": {
     "delete_cmd_postfix": "",
     "delete_cmd_prefix": "del ",
     "library": "var_list.py",
     "varRefreshCmd": "print(var_dic_list())"
    },
    "r": {
     "delete_cmd_postfix": ") ",
     "delete_cmd_prefix": "rm(",
     "library": "var_list.r",
     "varRefreshCmd": "cat(var_dic_list()) "
    }
   },
   "types_to_exclude": [
    "module",
    "function",
    "builtin_function_or_method",
    "instance",
    "_Feature"
   ],
   "window_display": false
  }
 },
 "nbformat": 4,
 "nbformat_minor": 5
}
